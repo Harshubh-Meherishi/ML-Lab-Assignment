{
  "nbformat": 4,
  "nbformat_minor": 0,
  "metadata": {
    "colab": {
      "name": "mlp_program.ipynb",
      "provenance": [],
      "collapsed_sections": [],
      "toc_visible": true
    },
    "kernelspec": {
      "display_name": "Python 3",
      "language": "python",
      "name": "python3"
    },
    "language_info": {
      "codemirror_mode": {
        "name": "ipython",
        "version": 3
      },
      "file_extension": ".py",
      "mimetype": "text/x-python",
      "name": "python",
      "nbconvert_exporter": "python",
      "pygments_lexer": "ipython3",
      "version": "3.7.3"
    }
  },
  "cells": [
    {
      "cell_type": "code",
      "metadata": {
        "colab_type": "code",
        "id": "xm-JXJV04ftB",
        "colab": {}
      },
      "source": [
        "import pandas as pd\n",
        "import numpy as np\n",
        "from sklearn.model_selection import train_test_split\n",
        "import array,random"
      ],
      "execution_count": 0,
      "outputs": []
    },
    {
      "cell_type": "code",
      "metadata": {
        "colab_type": "code",
        "id": "UNzClWI-4qpo",
        "outputId": "7f2e8c91-0bae-459f-80d4-8dd39cb1e9aa",
        "colab": {
          "base_uri": "https://localhost:8080/",
          "height": 376
        }
      },
      "source": [
        "df = pd.read_csv(\"/content/data_banknote_authentication.csv\")\n",
        "print(\"No. of Rows \" + str(len(df)))\n",
        "df.head(10)"
      ],
      "execution_count": 26,
      "outputs": [
        {
          "output_type": "stream",
          "text": [
            "No. of Rows 1372\n"
          ],
          "name": "stdout"
        },
        {
          "output_type": "execute_result",
          "data": {
            "text/html": [
              "<div>\n",
              "<style scoped>\n",
              "    .dataframe tbody tr th:only-of-type {\n",
              "        vertical-align: middle;\n",
              "    }\n",
              "\n",
              "    .dataframe tbody tr th {\n",
              "        vertical-align: top;\n",
              "    }\n",
              "\n",
              "    .dataframe thead th {\n",
              "        text-align: right;\n",
              "    }\n",
              "</style>\n",
              "<table border=\"1\" class=\"dataframe\">\n",
              "  <thead>\n",
              "    <tr style=\"text-align: right;\">\n",
              "      <th></th>\n",
              "      <th>Variance of Wavelet Transformed image</th>\n",
              "      <th>Skewness of Wavelet Transformed image</th>\n",
              "      <th>Kurtosis of Wavelet Transformed image</th>\n",
              "      <th>Entropy of image</th>\n",
              "      <th>Class</th>\n",
              "    </tr>\n",
              "  </thead>\n",
              "  <tbody>\n",
              "    <tr>\n",
              "      <th>0</th>\n",
              "      <td>3.62160</td>\n",
              "      <td>8.6661</td>\n",
              "      <td>-2.80730</td>\n",
              "      <td>-0.44699</td>\n",
              "      <td>0</td>\n",
              "    </tr>\n",
              "    <tr>\n",
              "      <th>1</th>\n",
              "      <td>4.54590</td>\n",
              "      <td>8.1674</td>\n",
              "      <td>-2.45860</td>\n",
              "      <td>-1.46210</td>\n",
              "      <td>0</td>\n",
              "    </tr>\n",
              "    <tr>\n",
              "      <th>2</th>\n",
              "      <td>3.86600</td>\n",
              "      <td>-2.6383</td>\n",
              "      <td>1.92420</td>\n",
              "      <td>0.10645</td>\n",
              "      <td>0</td>\n",
              "    </tr>\n",
              "    <tr>\n",
              "      <th>3</th>\n",
              "      <td>3.45660</td>\n",
              "      <td>9.5228</td>\n",
              "      <td>-4.01120</td>\n",
              "      <td>-3.59440</td>\n",
              "      <td>0</td>\n",
              "    </tr>\n",
              "    <tr>\n",
              "      <th>4</th>\n",
              "      <td>0.32924</td>\n",
              "      <td>-4.4552</td>\n",
              "      <td>4.57180</td>\n",
              "      <td>-0.98880</td>\n",
              "      <td>0</td>\n",
              "    </tr>\n",
              "    <tr>\n",
              "      <th>5</th>\n",
              "      <td>4.36840</td>\n",
              "      <td>9.6718</td>\n",
              "      <td>-3.96060</td>\n",
              "      <td>-3.16250</td>\n",
              "      <td>0</td>\n",
              "    </tr>\n",
              "    <tr>\n",
              "      <th>6</th>\n",
              "      <td>3.59120</td>\n",
              "      <td>3.0129</td>\n",
              "      <td>0.72888</td>\n",
              "      <td>0.56421</td>\n",
              "      <td>0</td>\n",
              "    </tr>\n",
              "    <tr>\n",
              "      <th>7</th>\n",
              "      <td>2.09220</td>\n",
              "      <td>-6.8100</td>\n",
              "      <td>8.46360</td>\n",
              "      <td>-0.60216</td>\n",
              "      <td>0</td>\n",
              "    </tr>\n",
              "    <tr>\n",
              "      <th>8</th>\n",
              "      <td>3.20320</td>\n",
              "      <td>5.7588</td>\n",
              "      <td>-0.75345</td>\n",
              "      <td>-0.61251</td>\n",
              "      <td>0</td>\n",
              "    </tr>\n",
              "    <tr>\n",
              "      <th>9</th>\n",
              "      <td>1.53560</td>\n",
              "      <td>9.1772</td>\n",
              "      <td>-2.27180</td>\n",
              "      <td>-0.73535</td>\n",
              "      <td>0</td>\n",
              "    </tr>\n",
              "  </tbody>\n",
              "</table>\n",
              "</div>"
            ],
            "text/plain": [
              "   Variance of Wavelet Transformed image   ...  Class\n",
              "0                                 3.62160  ...      0\n",
              "1                                 4.54590  ...      0\n",
              "2                                 3.86600  ...      0\n",
              "3                                 3.45660  ...      0\n",
              "4                                 0.32924  ...      0\n",
              "5                                 4.36840  ...      0\n",
              "6                                 3.59120  ...      0\n",
              "7                                 2.09220  ...      0\n",
              "8                                 3.20320  ...      0\n",
              "9                                 1.53560  ...      0\n",
              "\n",
              "[10 rows x 5 columns]"
            ]
          },
          "metadata": {
            "tags": []
          },
          "execution_count": 26
        }
      ]
    },
    {
      "cell_type": "markdown",
      "metadata": {
        "id": "HGARqyYSJk9v",
        "colab_type": "text"
      },
      "source": [
        "#### SPLITTING DATA INTO TRAIN AND TEST"
      ]
    },
    {
      "cell_type": "code",
      "metadata": {
        "colab_type": "code",
        "id": "tycaeHPS4tEd",
        "outputId": "5d760d3d-86ee-4a2c-8b19-c3ca5ab8eb04",
        "colab": {
          "base_uri": "https://localhost:8080/",
          "height": 34
        }
      },
      "source": [
        "train,test = train_test_split(df, test_size=0.2, random_state = 41)\n",
        "N = len(train.columns) - 1\n",
        "print(N)"
      ],
      "execution_count": 27,
      "outputs": [
        {
          "output_type": "stream",
          "text": [
            "4\n"
          ],
          "name": "stdout"
        }
      ]
    },
    {
      "cell_type": "code",
      "metadata": {
        "colab_type": "code",
        "id": "OAx4msSq41Xv",
        "colab": {}
      },
      "source": [
        "dfs = np.split(train, np.arange(N, len(df.columns), N), axis=1)\n",
        "x_train = dfs[0]\n",
        "y_train = dfs[1]\n",
        "\n",
        "dfp = np.split(test, np.arange(N, len(df.columns), N), axis=1)\n",
        "x_test = dfp[0]\n",
        "y_test = dfp[1]\n"
      ],
      "execution_count": 0,
      "outputs": []
    },
    {
      "cell_type": "code",
      "metadata": {
        "colab_type": "code",
        "id": "RA5Tqrm45LL7",
        "outputId": "2d4314b9-10c4-47d1-c523-672b5291b01a",
        "colab": {
          "base_uri": "https://localhost:8080/",
          "height": 34
        }
      },
      "source": [
        "epochs = 1500 \n",
        "alpha = 0.01\n",
        "weights = [1.00]     #weights[0]=bias \n",
        "dimensions =len(x_train.columns)\n",
        "for i in range (1,dimensions+1):\n",
        "  weights.append(random.random())\n",
        "print(\"Initial weights are : \" + str(weights))\n"
      ],
      "execution_count": 29,
      "outputs": [
        {
          "output_type": "stream",
          "text": [
            "Initial weights are : [1.0, 0.9947982652387188, 0.9844904751390315, 0.38965494283347557, 0.7398037556820009]\n"
          ],
          "name": "stdout"
        }
      ]
    },
    {
      "cell_type": "code",
      "metadata": {
        "colab_type": "code",
        "id": "ErcfqyzW5PDU",
        "outputId": "c647b6b1-7525-47d1-80ce-ea91147674ca",
        "colab": {
          "base_uri": "https://localhost:8080/",
          "height": 34
        }
      },
      "source": [
        "def predict(MyList = [] , *args):\n",
        "  sum = weights[0]\n",
        "  for i in range(1,dimensions+1):\n",
        "    sum = sum + weights[i]*MyList[i-1]\n",
        "  if(sum>=0):\n",
        "    return 1\n",
        "  else:\n",
        "    return 0\n",
        "\n",
        "\n",
        "for e in range(epochs):\n",
        "  for i in range(len(x_train)):\n",
        "    X = np.array(x_train.values[i])\n",
        "    Y = np.array(y_train.values[i])\n",
        "    prediction = predict(X)\n",
        "    error = Y - prediction\n",
        "    weights[0] = weights[0] + alpha*error\n",
        "    for d in range(1,dimensions+1):\n",
        "      weights[d] = weights[d] + (alpha*error*X[d-1])\n",
        "#Learning\n",
        "\n",
        "Weights = []\n",
        "for weight in weights:\n",
        "  Weights.append(weight[0])\n",
        "weights = Weights\n",
        "print(\"Final weights are: \"+ str(weights))\n"
      ],
      "execution_count": 30,
      "outputs": [
        {
          "output_type": "stream",
          "text": [
            "Final weights are: [1.8700000000000008, -1.9056916547620464, -0.9937630648609778, -1.2049020371660235, -0.05232601431799578]\n"
          ],
          "name": "stdout"
        }
      ]
    },
    {
      "cell_type": "markdown",
      "metadata": {
        "colab_type": "text",
        "id": "rZ9eKvnPlUAL"
      },
      "source": [
        "### FOR TRAINING DATA"
      ]
    },
    {
      "cell_type": "code",
      "metadata": {
        "colab_type": "code",
        "id": "ZDLk-ODole2B",
        "outputId": "ef311265-8fc2-4956-f026-728f54b35de6",
        "colab": {
          "base_uri": "https://localhost:8080/",
          "height": 207
        }
      },
      "source": [
        "Result_train = []\n",
        "for i in range(0,len(x_train)):\n",
        "  XTest = np.array(x_train.values[i])\n",
        "  #print(str(XTest) + \" : \" + str(predict(XTest)))\n",
        "  #print(predict(XTest))\n",
        "  Result_train.append(predict(XTest))\n",
        "\n",
        "print(Result_train)\n",
        "FN_train = 0\n",
        "TP_train = 0\n",
        "TN_train = 0\n",
        "FP_train = 0\n",
        "for i in range(len(x_train)):\n",
        "  Z = np.array(y_train.values[i])\n",
        "  if(Result_train[i] == Z == 1):\n",
        "    TP_train+=1\n",
        "  elif(Result_train[i] == 1 and Z == 0):\n",
        "    FP_train+=1\n",
        "  elif(Result_train[i] == Z == 0):\n",
        "    TN_train+=1\n",
        "  else:\n",
        "    FN_train+=1\n",
        "\n",
        "#displaying confision matrix\n",
        "\n",
        "ConfusionMatrix_Train = np.array([[TN_train,FP_train],[FN_train,TP_train]])\n",
        "print(\"Confusion matrix is : \\n TN FP \\n FN TP\")\n",
        "print(ConfusionMatrix_Train)\n",
        "\n",
        "#displaying metrics\n",
        "Accuracy_train = (TP_train + TN_train)/len(x_train)\n",
        "#print(\"Accuracy is: \" + str(Accuracy*100) + \"%\")\n",
        "Precision_train = TP_train/(TP_train+FP_train)\n",
        "Recall_train = TP_train/(TP_train + FN_train)\n",
        "FMeasure_train = (2*Precision_train*Recall_train)/(Precision_train+Recall_train)\n",
        "print(\"Accuracy is: \" + str(Accuracy_train)  + \"\\n\"\n",
        "+ \"Precison is: \"+str(Precision_train)+\"\\nRecall is: \"+ str(Recall_train)+\"\\nFmeasure is: \" + str(FMeasure_train))\n"
      ],
      "execution_count": 31,
      "outputs": [
        {
          "output_type": "stream",
          "text": [
            "[0, 0, 1, 0, 1, 1, 1, 0, 0, 1, 0, 1, 0, 1, 0, 0, 1, 1, 1, 1, 1, 0, 1, 0, 1, 1, 1, 1, 1, 1, 0, 1, 0, 0, 1, 0, 0, 1, 1, 1, 0, 0, 0, 1, 0, 0, 1, 0, 1, 0, 0, 0, 1, 1, 1, 1, 0, 0, 0, 1, 0, 1, 1, 1, 0, 0, 0, 1, 1, 1, 1, 1, 0, 0, 0, 1, 0, 0, 0, 0, 1, 1, 0, 0, 0, 0, 0, 0, 0, 1, 0, 1, 0, 0, 1, 0, 0, 0, 1, 0, 1, 1, 0, 0, 0, 0, 1, 1, 0, 1, 1, 1, 0, 1, 1, 0, 1, 1, 1, 0, 1, 0, 1, 0, 0, 0, 1, 0, 1, 0, 0, 0, 1, 1, 0, 0, 0, 1, 1, 0, 0, 0, 1, 0, 0, 0, 0, 0, 1, 1, 0, 1, 0, 1, 1, 1, 0, 0, 0, 1, 0, 0, 0, 1, 0, 1, 0, 1, 0, 0, 0, 0, 1, 0, 0, 0, 1, 0, 0, 1, 1, 0, 0, 1, 1, 0, 0, 0, 0, 0, 1, 0, 1, 1, 1, 0, 0, 1, 1, 0, 0, 0, 0, 0, 0, 1, 1, 0, 1, 0, 0, 1, 0, 0, 1, 0, 1, 0, 0, 1, 0, 1, 0, 0, 0, 0, 0, 0, 0, 1, 0, 0, 1, 0, 0, 1, 1, 0, 1, 0, 1, 1, 0, 0, 0, 0, 1, 0, 1, 0, 1, 1, 0, 0, 0, 1, 0, 0, 1, 0, 0, 1, 0, 1, 0, 0, 1, 0, 1, 0, 1, 1, 0, 0, 1, 0, 1, 0, 1, 1, 1, 1, 0, 1, 1, 0, 0, 0, 1, 1, 1, 1, 0, 0, 1, 1, 0, 0, 0, 1, 1, 0, 0, 1, 1, 0, 1, 1, 0, 0, 0, 1, 0, 0, 1, 1, 0, 0, 0, 0, 0, 1, 1, 1, 0, 0, 0, 1, 1, 0, 0, 1, 1, 0, 0, 1, 0, 1, 0, 0, 1, 1, 1, 1, 1, 1, 0, 0, 1, 1, 1, 1, 0, 1, 0, 1, 0, 1, 0, 0, 0, 0, 0, 0, 1, 0, 1, 0, 0, 1, 0, 0, 0, 0, 1, 1, 1, 1, 1, 1, 1, 0, 0, 0, 1, 1, 0, 1, 0, 1, 0, 0, 1, 0, 0, 0, 0, 1, 1, 0, 0, 1, 1, 0, 0, 1, 0, 0, 0, 0, 1, 0, 0, 0, 0, 0, 0, 0, 0, 0, 1, 0, 0, 1, 1, 0, 0, 1, 1, 1, 1, 1, 0, 0, 1, 0, 1, 0, 1, 1, 0, 0, 0, 1, 1, 1, 1, 1, 1, 0, 1, 1, 1, 0, 0, 0, 1, 0, 1, 0, 0, 0, 0, 1, 0, 0, 0, 1, 0, 0, 0, 1, 0, 1, 0, 1, 0, 0, 0, 1, 1, 1, 1, 1, 0, 1, 1, 1, 0, 1, 1, 1, 0, 1, 0, 0, 0, 0, 1, 0, 1, 0, 1, 1, 1, 1, 0, 1, 1, 0, 1, 0, 0, 0, 0, 1, 1, 1, 1, 1, 1, 1, 0, 1, 0, 0, 0, 0, 1, 0, 0, 0, 1, 1, 1, 0, 0, 1, 1, 1, 0, 1, 0, 1, 0, 0, 0, 1, 0, 1, 0, 0, 0, 1, 0, 0, 1, 1, 1, 0, 1, 0, 0, 0, 1, 0, 0, 0, 1, 0, 1, 1, 1, 1, 0, 0, 0, 0, 0, 1, 1, 0, 0, 1, 0, 0, 1, 1, 0, 1, 0, 1, 1, 0, 1, 1, 0, 0, 1, 0, 1, 0, 1, 0, 1, 0, 0, 0, 0, 0, 1, 1, 0, 1, 0, 0, 1, 0, 0, 0, 0, 0, 0, 1, 0, 1, 1, 0, 1, 0, 0, 1, 0, 1, 1, 1, 0, 0, 1, 0, 1, 0, 1, 0, 1, 0, 1, 1, 1, 1, 0, 0, 1, 0, 0, 0, 0, 1, 1, 0, 1, 1, 1, 0, 0, 1, 1, 0, 1, 1, 1, 0, 0, 0, 0, 0, 0, 1, 0, 1, 0, 0, 0, 0, 1, 0, 0, 1, 1, 0, 0, 0, 0, 0, 1, 0, 0, 0, 1, 0, 0, 0, 0, 0, 0, 0, 1, 1, 1, 1, 0, 1, 0, 0, 0, 0, 0, 0, 0, 0, 0, 0, 1, 1, 1, 1, 0, 0, 0, 0, 0, 0, 0, 0, 1, 1, 0, 1, 0, 0, 0, 1, 1, 0, 1, 1, 1, 1, 1, 0, 0, 0, 0, 1, 0, 0, 0, 1, 0, 1, 0, 0, 1, 0, 1, 0, 0, 0, 0, 0, 1, 1, 0, 1, 0, 0, 0, 0, 1, 1, 1, 1, 0, 0, 1, 1, 0, 0, 0, 1, 0, 0, 1, 1, 1, 1, 0, 0, 0, 0, 0, 0, 0, 1, 0, 1, 1, 1, 1, 0, 1, 0, 0, 0, 1, 1, 0, 1, 0, 0, 0, 1, 0, 1, 1, 0, 0, 1, 1, 0, 0, 1, 0, 0, 0, 0, 0, 1, 0, 0, 1, 0, 1, 0, 1, 0, 1, 0, 1, 0, 1, 0, 1, 0, 0, 0, 1, 0, 0, 1, 0, 0, 1, 0, 1, 0, 0, 0, 1, 1, 1, 1, 1, 1, 1, 0, 1, 0, 0, 1, 1, 1, 0, 0, 1, 0, 1, 1, 0, 0, 0, 1, 0, 0, 0, 0, 1, 0, 0, 1, 1, 0, 1, 1, 0, 0, 0, 0, 1, 1, 0, 0, 0, 0, 1, 0, 1, 1, 0, 0, 0, 0, 1, 1, 1, 1, 0, 0, 0, 0, 0, 1, 1, 0, 0, 0, 0, 0, 0, 1, 0, 0, 0, 1, 1, 1, 0, 0, 1, 0, 0, 1, 1, 1, 0, 0, 0, 0, 1, 0, 0, 0, 0, 1, 0, 1, 1, 0, 0, 1, 0, 0, 1, 1, 1, 0, 1, 1, 1, 1, 1, 0, 0, 1, 0, 0, 0, 0, 0, 0, 1, 1, 0, 1, 0, 1, 0, 1, 1, 0, 0, 1, 0, 0, 0, 0, 1, 1, 0, 0, 0, 1, 1, 1, 1, 0, 0, 0, 0, 0, 1, 0, 1, 0, 0, 0, 1, 0, 0, 0, 1, 1, 0, 0, 1, 1, 1, 1, 1, 1, 0, 1, 0, 0, 1, 1, 0, 1, 1, 0, 0, 0, 0, 1, 1, 0, 0, 1, 1, 1, 0, 1, 0, 1, 0, 0, 1, 0, 0, 0, 1, 0, 0, 1, 1, 1, 1, 0, 0, 1, 1, 1, 1, 1, 0, 1, 0, 0, 0, 1, 1, 0, 0, 0, 0, 1, 1]\n",
            "Confusion matrix is : \n",
            " TN FP \n",
            " FN TP\n",
            "[[607   7]\n",
            " [  6 477]]\n",
            "Accuracy is: 0.9881494986326345\n",
            "Precison is: 0.9855371900826446\n",
            "Recall is: 0.9875776397515528\n",
            "Fmeasure is: 0.9865563598759048\n"
          ],
          "name": "stdout"
        }
      ]
    },
    {
      "cell_type": "markdown",
      "metadata": {
        "colab_type": "text",
        "id": "MaQ0OxSxlNoF"
      },
      "source": [
        "### TESTING DATA"
      ]
    },
    {
      "cell_type": "code",
      "metadata": {
        "colab_type": "code",
        "id": "c4xqri6r5XHV",
        "outputId": "87f3eeb9-d19d-49f3-c263-6ba05cb8ebfe",
        "colab": {
          "base_uri": "https://localhost:8080/",
          "height": 207
        }
      },
      "source": [
        "Result = []\n",
        "for i in range(0,len(x_test)):\n",
        "  XTest = np.array(x_test.values[i])\n",
        "  #print(str(XTest) + \" : \" + str(predict(XTest)))\n",
        "  Result.append(predict(XTest))\n",
        "\n",
        "print(Result)\n",
        "FN = 0\n",
        "TP = 0\n",
        "TN = 0\n",
        "FP = 0\n",
        "for i in range(len(x_test)):\n",
        "  Z = np.array(y_test.values[i])\n",
        "  if(Result[i] == Z == 1):\n",
        "    TP+=1\n",
        "  elif(Result[i] == 1 and Z == 0):\n",
        "    FP+=1\n",
        "  elif(Result[i] == Z == 0):\n",
        "    TN+=1\n",
        "  else:\n",
        "    FN+=1\n",
        "\n",
        "ConfusionMatrix = np.array([[TN,FP],[FN,TP]])\n",
        "print(\"Confusion matrix is : \\n TN FP \\n FN TP\")\n",
        "print(ConfusionMatrix)\n",
        "\n",
        "Accuracy = (TP + TN)/len(x_test)\n",
        "#print(\"Accuracy is: \" + str(Accuracy*100) + \"%\")\n",
        "Precision = TP/(TP+FP)\n",
        "Recall = TP/(TP + FN)\n",
        "FMeasure = (2*Precision*Recall)/(Precision+Recall)\n",
        "print(\"Accuracy is: \" + str(Accuracy)  + \"\\n\"\n",
        "+ \"Precison is: \"+str(Precision)+\"\\nRecall is: \"+ str(Recall)+\"\\nFmeasure is: \" + str(FMeasure))"
      ],
      "execution_count": 32,
      "outputs": [
        {
          "output_type": "stream",
          "text": [
            "[1, 1, 1, 1, 1, 1, 1, 0, 0, 1, 0, 0, 0, 0, 1, 0, 0, 0, 1, 0, 1, 1, 0, 0, 0, 1, 0, 1, 1, 0, 1, 0, 1, 0, 0, 0, 1, 0, 0, 1, 0, 1, 0, 0, 1, 1, 1, 0, 0, 0, 0, 0, 0, 1, 1, 0, 0, 0, 1, 1, 1, 0, 1, 0, 1, 1, 0, 0, 0, 0, 1, 1, 0, 0, 1, 0, 0, 0, 0, 0, 0, 0, 0, 1, 1, 0, 0, 0, 0, 1, 0, 1, 1, 0, 1, 0, 0, 1, 0, 0, 1, 1, 1, 0, 0, 1, 1, 1, 1, 0, 1, 0, 1, 1, 0, 1, 1, 0, 1, 1, 1, 1, 0, 0, 0, 0, 1, 1, 1, 0, 0, 0, 1, 0, 1, 1, 0, 0, 0, 1, 1, 0, 1, 0, 0, 1, 1, 0, 1, 1, 0, 1, 1, 1, 0, 0, 1, 0, 0, 1, 0, 1, 0, 1, 1, 0, 0, 0, 0, 1, 0, 1, 0, 0, 1, 0, 1, 1, 1, 0, 0, 0, 1, 1, 1, 0, 1, 1, 0, 1, 0, 1, 1, 1, 0, 1, 0, 0, 1, 1, 0, 1, 0, 0, 0, 1, 0, 1, 1, 0, 1, 0, 1, 0, 0, 1, 1, 0, 0, 0, 1, 0, 0, 0, 0, 1, 0, 1, 1, 1, 0, 0, 1, 1, 0, 0, 0, 0, 1, 0, 1, 0, 0, 1, 1, 1, 0, 1, 1, 0, 1, 0, 1, 0, 0, 0, 1, 0, 1, 1, 1, 0, 1, 0, 1, 0, 1, 1, 0, 0, 0, 1, 0, 1, 0]\n",
            "Confusion matrix is : \n",
            " TN FP \n",
            " FN TP\n",
            "[[145   3]\n",
            " [  0 127]]\n",
            "Accuracy is: 0.9890909090909091\n",
            "Precison is: 0.9769230769230769\n",
            "Recall is: 1.0\n",
            "Fmeasure is: 0.9883268482490272\n"
          ],
          "name": "stdout"
        }
      ]
    },
    {
      "cell_type": "markdown",
      "metadata": {
        "colab_type": "text",
        "id": "bv1_XuY6kHGi"
      },
      "source": [
        "### VISUALISING CONFUSION MATRIX"
      ]
    },
    {
      "cell_type": "code",
      "metadata": {
        "colab_type": "code",
        "id": "_oloUkTAmByZ",
        "colab": {}
      },
      "source": [
        "predicted_df = pd.DataFrame({\"Predicted\":Result})"
      ],
      "execution_count": 0,
      "outputs": []
    },
    {
      "cell_type": "code",
      "metadata": {
        "colab_type": "code",
        "id": "-o9WeHYre2ub",
        "outputId": "0b7bacbc-af4c-4464-dd98-32f3fe326091",
        "colab": {
          "base_uri": "https://localhost:8080/",
          "height": 342
        }
      },
      "source": [
        "import matplotlib.pyplot as plt\n",
        "from sklearn.metrics import confusion_matrix\n",
        "\n",
        "cm = confusion_matrix(y_test, predicted_df)\n",
        "print(cm)\n",
        "plt.clf()\n",
        "plt.imshow(cm, interpolation='nearest', cmap=plt.cm.Wistia)\n",
        "classNames = ['Negative','Positive']\n",
        "\n",
        "plt.ylabel('True label')\n",
        "plt.xlabel('Predicted label')\n",
        "tick_marks = np.arange(len(classNames))\n",
        "plt.xticks(tick_marks, classNames, rotation=45)\n",
        "plt.yticks(tick_marks, classNames)\n",
        "s = [['TN','FP'], ['FN', 'TP']]\n",
        "for i in range(2):\n",
        "    for j in range(2):\n",
        "        plt.text(j,i, str(s[i][j])+\" = \"+str(cm[i][j]))\n",
        "plt.show()"
      ],
      "execution_count": 34,
      "outputs": [
        {
          "output_type": "stream",
          "text": [
            "[[145   3]\n",
            " [  0 127]]\n"
          ],
          "name": "stdout"
        },
        {
          "output_type": "display_data",
          "data": {
            "image/png": "[encoded data removed]",
            "text/plain": [
              "<Figure size 432x288 with 1 Axes>"
            ]
          },
          "metadata": {
            "tags": [],
            "needs_background": "light"
          }
        }
      ]
    },
    {
      "cell_type": "markdown",
      "metadata": {
        "colab_type": "text",
        "id": "mmEUvDHJkLru"
      },
      "source": [
        "### VISUALISING ROC CURVE"
      ]
    },
    {
      "cell_type": "code",
      "metadata": {
        "colab_type": "code",
        "id": "lrZP8Q3Fkldo",
        "outputId": "c4eea0fc-1465-400f-e510-bb7a456f1538",
        "colab": {
          "base_uri": "https://localhost:8080/",
          "height": 312
        }
      },
      "source": [
        "\n",
        "\n",
        "from sklearn import metrics\n",
        "fpr, tpr, thresholds = metrics.roc_curve(y_test, predicted_df, pos_label=0)\n",
        "# Print ROC curve\n",
        "plt.plot(tpr,fpr)\n",
        "plt.ylabel(\"True Positive Rate\")\n",
        "plt.xlabel(\"False Positive Rate\")\n",
        "plt.title(\"True Positive Rate Vs False Positive Rate\")\n",
        "plt.show()\n",
        "\n",
        "\n",
        "# Print AUC\n",
        "auc = np.trapz(fpr,tpr)\n",
        "print('AUC:', auc)"
      ],
      "execution_count": 35,
      "outputs": [
        {
          "output_type": "display_data",
          "data": {
            "image/png": "[encoded data removed]",
            "text/plain": [
              "<Figure size 432x288 with 1 Axes>"
            ]
          },
          "metadata": {
            "tags": [],
            "needs_background": "light"
          }
        },
        {
          "output_type": "stream",
          "text": [
            "AUC: 0.9898648648648648\n"
          ],
          "name": "stdout"
        }
      ]
    },
    {
      "cell_type": "code",
      "metadata": {
        "colab_type": "code",
        "id": "moRAQM_KlmBw",
        "colab": {}
      },
      "source": [
        ""
      ],
      "execution_count": 0,
      "outputs": []
    }
  ]
}