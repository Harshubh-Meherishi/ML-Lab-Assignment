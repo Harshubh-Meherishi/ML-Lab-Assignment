{
  "nbformat": 4,
  "nbformat_minor": 0,
  "metadata": {
    "colab": {
      "name": "KNN_program.ipynb",
      "provenance": [],
      "collapsed_sections": []
    },
    "kernelspec": {
      "name": "python3",
      "display_name": "Python 3"
    }
  },
  "cells": [
    {
      "cell_type": "markdown",
      "metadata": {
        "id": "u4LMdIuxEi66",
        "colab_type": "text"
      },
      "source": [
        "**READING DATA**\n",
        "\n",
        "\n"
      ]
    },
    {
      "cell_type": "code",
      "metadata": {
        "id": "zz53oLJADgvJ",
        "colab_type": "code",
        "outputId": "8d7e4c7e-d6ef-4ae7-942b-8ae599262c67",
        "colab": {
          "base_uri": "https://localhost:8080/",
          "height": 33
        }
      },
      "source": [
        "from mlxtend.plotting import plot_decision_regions\n",
        "import numpy as np\n",
        "import pandas as pd\n",
        "import matplotlib.pyplot as plt\n",
        "import seaborn as sns\n",
        "sns.set()\n",
        "import warnings\n",
        "warnings.filterwarnings('ignore')\n",
        "%matplotlib inline\n",
        "from sklearn.model_selection import train_test_split\n",
        "from sklearn import preprocessing\n",
        "from math import sqrt\n",
        "import operator\n",
        "df = pd.read_csv(\"/content/dataKNN.csv\")\n",
        "df.shape"
      ],
      "execution_count": 30,
      "outputs": [
        {
          "output_type": "execute_result",
          "data": {
            "text/plain": [
              "(768, 9)"
            ]
          },
          "metadata": {
            "tags": []
          },
          "execution_count": 30
        }
      ]
    },
    {
      "cell_type": "code",
      "metadata": {
        "id": "qA6tOcFnv-Mu",
        "colab_type": "code",
        "outputId": "ed545218-edeb-44c9-f0e5-88c4a983a8bb",
        "colab": {
          "base_uri": "https://localhost:8080/",
          "height": 191
        }
      },
      "source": [
        "df.head()"
      ],
      "execution_count": 31,
      "outputs": [
        {
          "output_type": "execute_result",
          "data": {
            "text/html": [
              "<div>\n",
              "<style scoped>\n",
              "    .dataframe tbody tr th:only-of-type {\n",
              "        vertical-align: middle;\n",
              "    }\n",
              "\n",
              "    .dataframe tbody tr th {\n",
              "        vertical-align: top;\n",
              "    }\n",
              "\n",
              "    .dataframe thead th {\n",
              "        text-align: right;\n",
              "    }\n",
              "</style>\n",
              "<table border=\"1\" class=\"dataframe\">\n",
              "  <thead>\n",
              "    <tr style=\"text-align: right;\">\n",
              "      <th></th>\n",
              "      <th>Pregnancies</th>\n",
              "      <th>Glucose</th>\n",
              "      <th>BloodPressure</th>\n",
              "      <th>SkinThickness</th>\n",
              "      <th>Insulin</th>\n",
              "      <th>BMI</th>\n",
              "      <th>DiabetesPedigreeFunction</th>\n",
              "      <th>Age</th>\n",
              "      <th>Outcome</th>\n",
              "    </tr>\n",
              "  </thead>\n",
              "  <tbody>\n",
              "    <tr>\n",
              "      <th>0</th>\n",
              "      <td>6.0</td>\n",
              "      <td>148</td>\n",
              "      <td>72.0</td>\n",
              "      <td>35.0</td>\n",
              "      <td>0.0</td>\n",
              "      <td>33.6</td>\n",
              "      <td>0.627</td>\n",
              "      <td>50.0</td>\n",
              "      <td>1</td>\n",
              "    </tr>\n",
              "    <tr>\n",
              "      <th>1</th>\n",
              "      <td>1.0</td>\n",
              "      <td>85</td>\n",
              "      <td>66.0</td>\n",
              "      <td>29.0</td>\n",
              "      <td>0.0</td>\n",
              "      <td>26.6</td>\n",
              "      <td>0.351</td>\n",
              "      <td>31.0</td>\n",
              "      <td>0</td>\n",
              "    </tr>\n",
              "    <tr>\n",
              "      <th>2</th>\n",
              "      <td>8.0</td>\n",
              "      <td>183</td>\n",
              "      <td>64.0</td>\n",
              "      <td>0.0</td>\n",
              "      <td>0.0</td>\n",
              "      <td>23.3</td>\n",
              "      <td>0.672</td>\n",
              "      <td>32.0</td>\n",
              "      <td>1</td>\n",
              "    </tr>\n",
              "    <tr>\n",
              "      <th>3</th>\n",
              "      <td>1.0</td>\n",
              "      <td>89</td>\n",
              "      <td>66.0</td>\n",
              "      <td>23.0</td>\n",
              "      <td>94.0</td>\n",
              "      <td>28.1</td>\n",
              "      <td>0.167</td>\n",
              "      <td>21.0</td>\n",
              "      <td>0</td>\n",
              "    </tr>\n",
              "    <tr>\n",
              "      <th>4</th>\n",
              "      <td>NaN</td>\n",
              "      <td>137</td>\n",
              "      <td>40.0</td>\n",
              "      <td>35.0</td>\n",
              "      <td>168.0</td>\n",
              "      <td>43.1</td>\n",
              "      <td>2.288</td>\n",
              "      <td>NaN</td>\n",
              "      <td>1</td>\n",
              "    </tr>\n",
              "  </tbody>\n",
              "</table>\n",
              "</div>"
            ],
            "text/plain": [
              "   Pregnancies  Glucose  BloodPressure  ...  DiabetesPedigreeFunction   Age  Outcome\n",
              "0          6.0      148           72.0  ...                     0.627  50.0        1\n",
              "1          1.0       85           66.0  ...                     0.351  31.0        0\n",
              "2          8.0      183           64.0  ...                     0.672  32.0        1\n",
              "3          1.0       89           66.0  ...                     0.167  21.0        0\n",
              "4          NaN      137           40.0  ...                     2.288   NaN        1\n",
              "\n",
              "[5 rows x 9 columns]"
            ]
          },
          "metadata": {
            "tags": []
          },
          "execution_count": 31
        }
      ]
    },
    {
      "cell_type": "code",
      "metadata": {
        "id": "M-rqZ02UwDJD",
        "colab_type": "code",
        "outputId": "799eb222-11f9-40bf-d1b5-51c579e6a270",
        "colab": {
          "base_uri": "https://localhost:8080/",
          "height": 277
        }
      },
      "source": [
        "df.info()"
      ],
      "execution_count": 32,
      "outputs": [
        {
          "output_type": "stream",
          "text": [
            "<class 'pandas.core.frame.DataFrame'>\n",
            "RangeIndex: 768 entries, 0 to 767\n",
            "Data columns (total 9 columns):\n",
            " #   Column                    Non-Null Count  Dtype  \n",
            "---  ------                    --------------  -----  \n",
            " 0   Pregnancies               763 non-null    float64\n",
            " 1   Glucose                   768 non-null    int64  \n",
            " 2   BloodPressure             763 non-null    float64\n",
            " 3   SkinThickness             765 non-null    float64\n",
            " 4   Insulin                   764 non-null    float64\n",
            " 5   BMI                       763 non-null    float64\n",
            " 6   DiabetesPedigreeFunction  768 non-null    float64\n",
            " 7   Age                       762 non-null    float64\n",
            " 8   Outcome                   768 non-null    int64  \n",
            "dtypes: float64(7), int64(2)\n",
            "memory usage: 54.1 KB\n"
          ],
          "name": "stdout"
        }
      ]
    },
    {
      "cell_type": "markdown",
      "metadata": {
        "id": "AqR-Z44-Eoct",
        "colab_type": "text"
      },
      "source": [
        "Data Description\n"
      ]
    },
    {
      "cell_type": "code",
      "metadata": {
        "id": "8FM1B88pwK3a",
        "colab_type": "code",
        "outputId": "49dc9a77-a783-4e34-8c58-67ff614411c5",
        "colab": {
          "base_uri": "https://localhost:8080/",
          "height": 306
        }
      },
      "source": [
        "df.describe().T"
      ],
      "execution_count": 33,
      "outputs": [
        {
          "output_type": "execute_result",
          "data": {
            "text/html": [
              "<div>\n",
              "<style scoped>\n",
              "    .dataframe tbody tr th:only-of-type {\n",
              "        vertical-align: middle;\n",
              "    }\n",
              "\n",
              "    .dataframe tbody tr th {\n",
              "        vertical-align: top;\n",
              "    }\n",
              "\n",
              "    .dataframe thead th {\n",
              "        text-align: right;\n",
              "    }\n",
              "</style>\n",
              "<table border=\"1\" class=\"dataframe\">\n",
              "  <thead>\n",
              "    <tr style=\"text-align: right;\">\n",
              "      <th></th>\n",
              "      <th>count</th>\n",
              "      <th>mean</th>\n",
              "      <th>std</th>\n",
              "      <th>min</th>\n",
              "      <th>25%</th>\n",
              "      <th>50%</th>\n",
              "      <th>75%</th>\n",
              "      <th>max</th>\n",
              "    </tr>\n",
              "  </thead>\n",
              "  <tbody>\n",
              "    <tr>\n",
              "      <th>Pregnancies</th>\n",
              "      <td>763.0</td>\n",
              "      <td>3.855832</td>\n",
              "      <td>3.370036</td>\n",
              "      <td>0.000</td>\n",
              "      <td>1.00000</td>\n",
              "      <td>3.0000</td>\n",
              "      <td>6.00000</td>\n",
              "      <td>17.00</td>\n",
              "    </tr>\n",
              "    <tr>\n",
              "      <th>Glucose</th>\n",
              "      <td>768.0</td>\n",
              "      <td>120.894531</td>\n",
              "      <td>31.972618</td>\n",
              "      <td>0.000</td>\n",
              "      <td>99.00000</td>\n",
              "      <td>117.0000</td>\n",
              "      <td>140.25000</td>\n",
              "      <td>199.00</td>\n",
              "    </tr>\n",
              "    <tr>\n",
              "      <th>BloodPressure</th>\n",
              "      <td>763.0</td>\n",
              "      <td>69.458716</td>\n",
              "      <td>18.757656</td>\n",
              "      <td>0.000</td>\n",
              "      <td>64.00000</td>\n",
              "      <td>72.0000</td>\n",
              "      <td>80.00000</td>\n",
              "      <td>122.00</td>\n",
              "    </tr>\n",
              "    <tr>\n",
              "      <th>SkinThickness</th>\n",
              "      <td>765.0</td>\n",
              "      <td>20.583007</td>\n",
              "      <td>15.947639</td>\n",
              "      <td>0.000</td>\n",
              "      <td>0.00000</td>\n",
              "      <td>23.0000</td>\n",
              "      <td>32.00000</td>\n",
              "      <td>99.00</td>\n",
              "    </tr>\n",
              "    <tr>\n",
              "      <th>Insulin</th>\n",
              "      <td>764.0</td>\n",
              "      <td>80.086387</td>\n",
              "      <td>115.434618</td>\n",
              "      <td>0.000</td>\n",
              "      <td>0.00000</td>\n",
              "      <td>34.0000</td>\n",
              "      <td>128.25000</td>\n",
              "      <td>846.00</td>\n",
              "    </tr>\n",
              "    <tr>\n",
              "      <th>BMI</th>\n",
              "      <td>763.0</td>\n",
              "      <td>31.997248</td>\n",
              "      <td>7.908138</td>\n",
              "      <td>0.000</td>\n",
              "      <td>27.30000</td>\n",
              "      <td>32.0000</td>\n",
              "      <td>36.60000</td>\n",
              "      <td>67.10</td>\n",
              "    </tr>\n",
              "    <tr>\n",
              "      <th>DiabetesPedigreeFunction</th>\n",
              "      <td>768.0</td>\n",
              "      <td>0.471876</td>\n",
              "      <td>0.331329</td>\n",
              "      <td>0.078</td>\n",
              "      <td>0.24375</td>\n",
              "      <td>0.3725</td>\n",
              "      <td>0.62625</td>\n",
              "      <td>2.42</td>\n",
              "    </tr>\n",
              "    <tr>\n",
              "      <th>Age</th>\n",
              "      <td>762.0</td>\n",
              "      <td>33.240157</td>\n",
              "      <td>11.785035</td>\n",
              "      <td>21.000</td>\n",
              "      <td>24.00000</td>\n",
              "      <td>29.0000</td>\n",
              "      <td>41.00000</td>\n",
              "      <td>81.00</td>\n",
              "    </tr>\n",
              "    <tr>\n",
              "      <th>Outcome</th>\n",
              "      <td>768.0</td>\n",
              "      <td>0.348958</td>\n",
              "      <td>0.476951</td>\n",
              "      <td>0.000</td>\n",
              "      <td>0.00000</td>\n",
              "      <td>0.0000</td>\n",
              "      <td>1.00000</td>\n",
              "      <td>1.00</td>\n",
              "    </tr>\n",
              "  </tbody>\n",
              "</table>\n",
              "</div>"
            ],
            "text/plain": [
              "                          count        mean  ...        75%     max\n",
              "Pregnancies               763.0    3.855832  ...    6.00000   17.00\n",
              "Glucose                   768.0  120.894531  ...  140.25000  199.00\n",
              "BloodPressure             763.0   69.458716  ...   80.00000  122.00\n",
              "SkinThickness             765.0   20.583007  ...   32.00000   99.00\n",
              "Insulin                   764.0   80.086387  ...  128.25000  846.00\n",
              "BMI                       763.0   31.997248  ...   36.60000   67.10\n",
              "DiabetesPedigreeFunction  768.0    0.471876  ...    0.62625    2.42\n",
              "Age                       762.0   33.240157  ...   41.00000   81.00\n",
              "Outcome                   768.0    0.348958  ...    1.00000    1.00\n",
              "\n",
              "[9 rows x 8 columns]"
            ]
          },
          "metadata": {
            "tags": []
          },
          "execution_count": 33
        }
      ]
    },
    {
      "cell_type": "code",
      "metadata": {
        "id": "yYwn5ZaWweCt",
        "colab_type": "code",
        "outputId": "1e4aa152-e286-4e62-ef5b-f1712f1ba0a1",
        "colab": {
          "base_uri": "https://localhost:8080/",
          "height": 180
        }
      },
      "source": [
        "print(df.isnull().sum())"
      ],
      "execution_count": 34,
      "outputs": [
        {
          "output_type": "stream",
          "text": [
            "Pregnancies                 5\n",
            "Glucose                     0\n",
            "BloodPressure               5\n",
            "SkinThickness               3\n",
            "Insulin                     4\n",
            "BMI                         5\n",
            "DiabetesPedigreeFunction    0\n",
            "Age                         6\n",
            "Outcome                     0\n",
            "dtype: int64\n"
          ],
          "name": "stdout"
        }
      ]
    },
    {
      "cell_type": "markdown",
      "metadata": {
        "id": "nJUmEP3CEy_g",
        "colab_type": "text"
      },
      "source": [
        "**DATA VISUALISATION**"
      ]
    },
    {
      "cell_type": "code",
      "metadata": {
        "id": "IPq8447Hwo5m",
        "colab_type": "code",
        "outputId": "677564ee-fd35-4d57-cd32-90d3255f07e1",
        "colab": {
          "base_uri": "https://localhost:8080/",
          "height": 1000
        }
      },
      "source": [
        "p = df.hist(figsize = (20,20))"
      ],
      "execution_count": 35,
      "outputs": [
        {
          "output_type": "display_data",
          "data": {
            "image/png": "[encoded data removed]",
            "text/plain": [
              "<Figure size 1440x1440 with 9 Axes>"
            ]
          },
          "metadata": {
            "tags": [],
            "needs_background": "light"
          }
        }
      ]
    },
    {
      "cell_type": "code",
      "metadata": {
        "id": "u5S6msxBiiO8",
        "colab_type": "code",
        "colab": {}
      },
      "source": [
        "df_copy = df.copy(deep = True)\n",
        "df_copy[['Glucose','BloodPressure','SkinThickness','Insulin','BMI']] = df_copy[['Glucose','BloodPressure','SkinThickness','Insulin','BMI']].replace(0,np.NaN)"
      ],
      "execution_count": 0,
      "outputs": []
    },
    {
      "cell_type": "code",
      "metadata": {
        "id": "E3S9OanGw9tR",
        "colab_type": "code",
        "colab": {}
      },
      "source": [
        "df['Glucose'].fillna(df['Glucose'].mean(), inplace = True)\n",
        "df['BloodPressure'].fillna(df['BloodPressure'].mean(), inplace = True)\n",
        "df['SkinThickness'].fillna(df['SkinThickness'].median(), inplace = True)\n",
        "df['Insulin'].fillna(df['Insulin'].median(), inplace = True)\n",
        "df['BMI'].fillna(df['BMI'].median(), inplace = True)"
      ],
      "execution_count": 0,
      "outputs": []
    },
    {
      "cell_type": "code",
      "metadata": {
        "id": "ktTD-jhTD4ls",
        "colab_type": "code",
        "outputId": "9c1fc1de-6832-44a8-9784-1434f29bd937",
        "colab": {
          "base_uri": "https://localhost:8080/",
          "height": 66
        }
      },
      "source": [
        "\n",
        "df.shape\n",
        "df.columns"
      ],
      "execution_count": 38,
      "outputs": [
        {
          "output_type": "execute_result",
          "data": {
            "text/plain": [
              "Index(['Pregnancies', 'Glucose', 'BloodPressure', 'SkinThickness', 'Insulin',\n",
              "       'BMI', 'DiabetesPedigreeFunction', 'Age', 'Outcome'],\n",
              "      dtype='object')"
            ]
          },
          "metadata": {
            "tags": []
          },
          "execution_count": 38
        }
      ]
    },
    {
      "cell_type": "code",
      "metadata": {
        "id": "vM0JjxCYxhue",
        "colab_type": "code",
        "outputId": "ca782a53-8104-4cbf-9807-dbbb4e002f84",
        "colab": {
          "base_uri": "https://localhost:8080/",
          "height": 732
        }
      },
      "source": [
        "plt.figure(figsize=(12,10))  # on this line I just set the size of figure to 12 by 10.\n",
        "p=sns.heatmap(df.corr(), annot=True,cmap ='RdYlGn') "
      ],
      "execution_count": 39,
      "outputs": [
        {
          "output_type": "display_data",
          "data": {
            "image/png": "[encoded data removed]",
            "text/plain": [
              "<Figure size 864x720 with 2 Axes>"
            ]
          },
          "metadata": {
            "tags": [],
            "needs_background": "light"
          }
        }
      ]
    },
    {
      "cell_type": "markdown",
      "metadata": {
        "id": "h1nR-RtkE_bn",
        "colab_type": "text"
      },
      "source": [
        "**SCALING AND PREPROCESSING**"
      ]
    },
    {
      "cell_type": "code",
      "metadata": {
        "id": "7kw22u9MO1mV",
        "colab_type": "code",
        "outputId": "5bbacfda-2321-4904-cd83-a28c445e06ae",
        "colab": {
          "base_uri": "https://localhost:8080/",
          "height": 191
        }
      },
      "source": [
        "#Performing Scaling\n",
        "sourcevars = df[['Pregnancies', 'Glucose', 'BloodPressure', 'Insulin',\n",
        "       'BMI', 'DiabetesPedigreeFunction', 'Age']]\n",
        "targetvar = df[['Outcome']]\n",
        "sourcevars.head()"
      ],
      "execution_count": 40,
      "outputs": [
        {
          "output_type": "execute_result",
          "data": {
            "text/html": [
              "<div>\n",
              "<style scoped>\n",
              "    .dataframe tbody tr th:only-of-type {\n",
              "        vertical-align: middle;\n",
              "    }\n",
              "\n",
              "    .dataframe tbody tr th {\n",
              "        vertical-align: top;\n",
              "    }\n",
              "\n",
              "    .dataframe thead th {\n",
              "        text-align: right;\n",
              "    }\n",
              "</style>\n",
              "<table border=\"1\" class=\"dataframe\">\n",
              "  <thead>\n",
              "    <tr style=\"text-align: right;\">\n",
              "      <th></th>\n",
              "      <th>Pregnancies</th>\n",
              "      <th>Glucose</th>\n",
              "      <th>BloodPressure</th>\n",
              "      <th>Insulin</th>\n",
              "      <th>BMI</th>\n",
              "      <th>DiabetesPedigreeFunction</th>\n",
              "      <th>Age</th>\n",
              "    </tr>\n",
              "  </thead>\n",
              "  <tbody>\n",
              "    <tr>\n",
              "      <th>0</th>\n",
              "      <td>6.0</td>\n",
              "      <td>148</td>\n",
              "      <td>72.0</td>\n",
              "      <td>0.0</td>\n",
              "      <td>33.6</td>\n",
              "      <td>0.627</td>\n",
              "      <td>50.0</td>\n",
              "    </tr>\n",
              "    <tr>\n",
              "      <th>1</th>\n",
              "      <td>1.0</td>\n",
              "      <td>85</td>\n",
              "      <td>66.0</td>\n",
              "      <td>0.0</td>\n",
              "      <td>26.6</td>\n",
              "      <td>0.351</td>\n",
              "      <td>31.0</td>\n",
              "    </tr>\n",
              "    <tr>\n",
              "      <th>2</th>\n",
              "      <td>8.0</td>\n",
              "      <td>183</td>\n",
              "      <td>64.0</td>\n",
              "      <td>0.0</td>\n",
              "      <td>23.3</td>\n",
              "      <td>0.672</td>\n",
              "      <td>32.0</td>\n",
              "    </tr>\n",
              "    <tr>\n",
              "      <th>3</th>\n",
              "      <td>1.0</td>\n",
              "      <td>89</td>\n",
              "      <td>66.0</td>\n",
              "      <td>94.0</td>\n",
              "      <td>28.1</td>\n",
              "      <td>0.167</td>\n",
              "      <td>21.0</td>\n",
              "    </tr>\n",
              "    <tr>\n",
              "      <th>4</th>\n",
              "      <td>NaN</td>\n",
              "      <td>137</td>\n",
              "      <td>40.0</td>\n",
              "      <td>168.0</td>\n",
              "      <td>43.1</td>\n",
              "      <td>2.288</td>\n",
              "      <td>NaN</td>\n",
              "    </tr>\n",
              "  </tbody>\n",
              "</table>\n",
              "</div>"
            ],
            "text/plain": [
              "   Pregnancies  Glucose  BloodPressure  ...   BMI  DiabetesPedigreeFunction   Age\n",
              "0          6.0      148           72.0  ...  33.6                     0.627  50.0\n",
              "1          1.0       85           66.0  ...  26.6                     0.351  31.0\n",
              "2          8.0      183           64.0  ...  23.3                     0.672  32.0\n",
              "3          1.0       89           66.0  ...  28.1                     0.167  21.0\n",
              "4          NaN      137           40.0  ...  43.1                     2.288   NaN\n",
              "\n",
              "[5 rows x 7 columns]"
            ]
          },
          "metadata": {
            "tags": []
          },
          "execution_count": 40
        }
      ]
    },
    {
      "cell_type": "markdown",
      "metadata": {
        "id": "FpTQkRqBG0y2",
        "colab_type": "text"
      },
      "source": [
        "**PERFORMING FEATURE ABLATION**"
      ]
    },
    {
      "cell_type": "code",
      "metadata": {
        "id": "K3RXXx0NU7YM",
        "colab_type": "code",
        "outputId": "85c9d0df-78c4-4683-ae16-64485dc4d5a8",
        "colab": {
          "base_uri": "https://localhost:8080/",
          "height": 50
        }
      },
      "source": [
        "#Preprocessing Data \n",
        "from sklearn.preprocessing import StandardScaler\n",
        "scalar = StandardScaler()\n",
        "df_1 = pd.DataFrame(scalar.fit_transform(sourcevars))\n",
        "df_1.columns = [ 'Pregnencies','Glucose', 'BloodPressure', 'Insulin',\n",
        "       'BMI', 'DiabetesPedigreeFunction', 'Age']\n",
        "\n",
        "frames = [df_1, targetvar]\n",
        "df = pd.concat(frames,axis =1)\n",
        "\n",
        "print(df.shape)\n",
        "df = df.dropna()\n",
        "print(df.shape)"
      ],
      "execution_count": 41,
      "outputs": [
        {
          "output_type": "stream",
          "text": [
            "(768, 8)\n",
            "(760, 8)\n"
          ],
          "name": "stdout"
        }
      ]
    },
    {
      "cell_type": "code",
      "metadata": {
        "id": "bkgSiWj3U_Qt",
        "colab_type": "code",
        "outputId": "4c68cb61-d6b7-4ae2-b1f9-495b2bfff7f8",
        "colab": {
          "base_uri": "https://localhost:8080/",
          "height": 191
        }
      },
      "source": [
        "df.head()"
      ],
      "execution_count": 42,
      "outputs": [
        {
          "output_type": "execute_result",
          "data": {
            "text/html": [
              "<div>\n",
              "<style scoped>\n",
              "    .dataframe tbody tr th:only-of-type {\n",
              "        vertical-align: middle;\n",
              "    }\n",
              "\n",
              "    .dataframe tbody tr th {\n",
              "        vertical-align: top;\n",
              "    }\n",
              "\n",
              "    .dataframe thead th {\n",
              "        text-align: right;\n",
              "    }\n",
              "</style>\n",
              "<table border=\"1\" class=\"dataframe\">\n",
              "  <thead>\n",
              "    <tr style=\"text-align: right;\">\n",
              "      <th></th>\n",
              "      <th>Pregnencies</th>\n",
              "      <th>Glucose</th>\n",
              "      <th>BloodPressure</th>\n",
              "      <th>Insulin</th>\n",
              "      <th>BMI</th>\n",
              "      <th>DiabetesPedigreeFunction</th>\n",
              "      <th>Age</th>\n",
              "      <th>Outcome</th>\n",
              "    </tr>\n",
              "  </thead>\n",
              "  <tbody>\n",
              "    <tr>\n",
              "      <th>0</th>\n",
              "      <td>0.636662</td>\n",
              "      <td>0.848324</td>\n",
              "      <td>0.136012</td>\n",
              "      <td>-0.693676</td>\n",
              "      <td>0.203465</td>\n",
              "      <td>0.468492</td>\n",
              "      <td>1.423063</td>\n",
              "      <td>1</td>\n",
              "    </tr>\n",
              "    <tr>\n",
              "      <th>1</th>\n",
              "      <td>-0.847975</td>\n",
              "      <td>-1.123396</td>\n",
              "      <td>-0.185114</td>\n",
              "      <td>-0.693676</td>\n",
              "      <td>-0.685177</td>\n",
              "      <td>-0.365061</td>\n",
              "      <td>-0.190210</td>\n",
              "      <td>0</td>\n",
              "    </tr>\n",
              "    <tr>\n",
              "      <th>2</th>\n",
              "      <td>1.230517</td>\n",
              "      <td>1.943724</td>\n",
              "      <td>-0.292156</td>\n",
              "      <td>-0.693676</td>\n",
              "      <td>-1.104108</td>\n",
              "      <td>0.604397</td>\n",
              "      <td>-0.105301</td>\n",
              "      <td>1</td>\n",
              "    </tr>\n",
              "    <tr>\n",
              "      <th>3</th>\n",
              "      <td>-0.847975</td>\n",
              "      <td>-0.998208</td>\n",
              "      <td>-0.185114</td>\n",
              "      <td>0.122962</td>\n",
              "      <td>-0.494754</td>\n",
              "      <td>-0.920763</td>\n",
              "      <td>-1.039301</td>\n",
              "      <td>0</td>\n",
              "    </tr>\n",
              "    <tr>\n",
              "      <th>5</th>\n",
              "      <td>0.339735</td>\n",
              "      <td>-0.153185</td>\n",
              "      <td>0.243054</td>\n",
              "      <td>-0.693676</td>\n",
              "      <td>-0.812126</td>\n",
              "      <td>-0.818079</td>\n",
              "      <td>-0.275119</td>\n",
              "      <td>0</td>\n",
              "    </tr>\n",
              "  </tbody>\n",
              "</table>\n",
              "</div>"
            ],
            "text/plain": [
              "   Pregnencies   Glucose  ...       Age  Outcome\n",
              "0     0.636662  0.848324  ...  1.423063        1\n",
              "1    -0.847975 -1.123396  ... -0.190210        0\n",
              "2     1.230517  1.943724  ... -0.105301        1\n",
              "3    -0.847975 -0.998208  ... -1.039301        0\n",
              "5     0.339735 -0.153185  ... -0.275119        0\n",
              "\n",
              "[5 rows x 8 columns]"
            ]
          },
          "metadata": {
            "tags": []
          },
          "execution_count": 42
        }
      ]
    },
    {
      "cell_type": "markdown",
      "metadata": {
        "id": "YFWlV8ezFQ7r",
        "colab_type": "text"
      },
      "source": [
        "**SPLITTING DATASET INTO TEST AND TRAIN**"
      ]
    },
    {
      "cell_type": "code",
      "metadata": {
        "id": "YvGsOh1dL_ef",
        "colab_type": "code",
        "outputId": "eddde380-2003-49e9-da79-e1ae2e3da282",
        "colab": {
          "base_uri": "https://localhost:8080/",
          "height": 50
        }
      },
      "source": [
        "#Splitting Dataset\n",
        "train,test = train_test_split(df, test_size=0.2, random_state = 41)\n",
        "N = len(train.columns) - 1\n",
        "print(N)\n",
        "dfs = np.split(train, np.arange(N, len(df.columns), N), axis=1)\n",
        "x_train = dfs[0]\n",
        "y_train = dfs[1]\n",
        "\n",
        "dfp = np.split(test, np.arange(N, len(df.columns), N), axis=1)\n",
        "x_test = dfp[0]\n",
        "y_test = dfp[1]\n",
        "\n",
        "x_train.shape\n",
        "x_test.shape\n"
      ],
      "execution_count": 43,
      "outputs": [
        {
          "output_type": "stream",
          "text": [
            "7\n"
          ],
          "name": "stdout"
        },
        {
          "output_type": "execute_result",
          "data": {
            "text/plain": [
              "(152, 7)"
            ]
          },
          "metadata": {
            "tags": []
          },
          "execution_count": 43
        }
      ]
    },
    {
      "cell_type": "markdown",
      "metadata": {
        "id": "A8bO1lesFeYM",
        "colab_type": "text"
      },
      "source": [
        "**DEFINING KNN DISTANCE METRICS AND WEIGHTS**"
      ]
    },
    {
      "cell_type": "code",
      "metadata": {
        "id": "0iZdaRUfD8II",
        "colab_type": "code",
        "colab": {}
      },
      "source": [
        "## FUNCTION FOR CHEBYSHEV\n",
        "def chebyshev_dist(data1,data2):\n",
        " return np.max(np.abs(data1-data2))\n",
        "   \n",
        " \n",
        " ## FUNCTION FOR EUCLIDEAN\n",
        "def euclideanDistance(data1, data2, length):\n",
        "    distance = 0\n",
        "    for x in range(length):\n",
        "        distance += np.square(data1[x] - data2[x])\n",
        "    return np.sqrt(distance)\n",
        "\n",
        "# Defining our KNN model\n",
        "def knn(trainingSet, testInstance, k):\n",
        " \n",
        "    distances = {}\n",
        "    sort = {}\n",
        "    weights = {}\n",
        "    length = testInstance.shape[1]\n",
        "    #print(\" Length is\" + str(length))\n",
        "\n",
        "    for x in range(len(trainingSet)):\n",
        "        \n",
        "        \n",
        "        dist = euclideanDistance(testInstance, trainingSet.iloc[x], length)\n",
        "        #dist = chebyshev_dist(testInstance, trainingSet.iloc[x])\n",
        "\n",
        "        distances[x] = dist[0]\n",
        "        weights[x] = 1/dist[0]\n",
        "    #print(distances)\n",
        "    #print(weights)  \n",
        "    sorted_d = sorted(distances.items(), key=operator.itemgetter(1))\n",
        "   # print(sorted_d)\n",
        "    sorted_w = sorted(weights.items(), key=operator.itemgetter(1), reverse = True)\n",
        "   # print(sorted_w)\n",
        "    neighbors = []\n",
        "   ## Taking K sorted distances\n",
        "    for x in range(k):\n",
        "        neighbors.append(sorted_d[x][0])\n",
        "    classVotes = {}\n",
        "    class_zero = 0\n",
        "    class_one = 0\n",
        "    #print(neighbors)\n",
        "    for x in range(len(neighbors)):\n",
        "        response = trainingSet.iloc[neighbors[x]][-1]\n",
        "        #print(\"Response is\")         \n",
        "        #print(response)\n",
        "        if response in classVotes:\n",
        "            classVotes[response] += 1\n",
        "        else:\n",
        "            classVotes[response] = 1\n",
        "        if(response == 0.0):\n",
        "          class_zero = class_zero + sorted_w[neighbors[x]][1]\n",
        "        elif(response == 1.0):\n",
        "          class_one = class_one + sorted_w[neighbors[x]][1]\n",
        "\n",
        "\n",
        "   # print(classVotes)\n",
        "    if(class_one>class_zero):\n",
        "      return 1.0\n",
        "    else:\n",
        "      return 0.0\n",
        "   # sortedVotes = sorted(classVotes.items(), key=operator.itemgetter(1), reverse=True)\n",
        "   # return(sortedVotes[0][0])\n",
        " \n",
        "\n",
        "predicted =[]\n",
        "for i in range(len(test)):\n",
        "  temp = pd.DataFrame(test.values[i])\n",
        "  temp.head()\n",
        "  result = knn(train,temp,10)\n",
        "  predicted.append(result)\n"
      ],
      "execution_count": 0,
      "outputs": []
    },
    {
      "cell_type": "markdown",
      "metadata": {
        "id": "9aiAs0GfFpC9",
        "colab_type": "text"
      },
      "source": [
        "**PRINTING CLASSIFICATION REPORT**"
      ]
    },
    {
      "cell_type": "code",
      "metadata": {
        "id": "pbitw96AFpPJ",
        "colab_type": "code",
        "outputId": "8c6012d3-d5e4-4145-a5ac-a508e3bc76c9",
        "colab": {
          "base_uri": "https://localhost:8080/",
          "height": 163
        }
      },
      "source": [
        "from sklearn.metrics import classification_report\n",
        "print(classification_report(y_test,predicted))"
      ],
      "execution_count": 46,
      "outputs": [
        {
          "output_type": "stream",
          "text": [
            "              precision    recall  f1-score   support\n",
            "\n",
            "         0.0       0.66      0.94      0.78        96\n",
            "         1.0       0.62      0.18      0.28        56\n",
            "\n",
            "    accuracy                           0.66       152\n",
            "   macro avg       0.64      0.56      0.53       152\n",
            "weighted avg       0.65      0.66      0.59       152\n",
            "\n"
          ],
          "name": "stdout"
        }
      ]
    },
    {
      "cell_type": "markdown",
      "metadata": {
        "id": "ETFH_0jtFt3f",
        "colab_type": "text"
      },
      "source": [
        "**ANALYSING RESULT(ROC/AUC)**"
      ]
    },
    {
      "cell_type": "code",
      "metadata": {
        "id": "G6laD_2Eg8fw",
        "colab_type": "code",
        "colab": {
          "base_uri": "https://localhost:8080/",
          "height": 317
        },
        "outputId": "0da9e463-dbc5-440b-9275-958e335d46e0"
      },
      "source": [
        "from sklearn import metrics\n",
        "fpr, tpr, thresholds = metrics.roc_curve(y_test, predicted, pos_label=0)\n",
        "# Print ROC curve\n",
        "plt.plot(tpr,fpr)\n",
        "plt.ylabel(\"True Positive Rate\")\n",
        "plt.xlabel(\"False Positive Rate\")\n",
        "plt.title(\"True Positive Rate Vs False Positive Rate\")\n",
        "plt.show()\n",
        "\n",
        "# Print AUC\n",
        "auc = np.trapz(fpr,tpr)\n",
        "print('AUC:', auc)"
      ],
      "execution_count": 47,
      "outputs": [
        {
          "output_type": "display_data",
          "data": {
            "image/png": "[encoded data removed]",
            "text/plain": [
              "<Figure size 432x288 with 1 Axes>"
            ]
          },
          "metadata": {
            "tags": [],
            "needs_background": "light"
          }
        },
        {
          "output_type": "stream",
          "text": [
            "AUC: 0.5580357142857143\n"
          ],
          "name": "stdout"
        }
      ]
    },
    {
      "cell_type": "markdown",
      "metadata": {
        "id": "LM4ZD1ikFydA",
        "colab_type": "text"
      },
      "source": [
        "**VISUALIZING KNN PREDICTIONS**"
      ]
    },
    {
      "cell_type": "code",
      "metadata": {
        "id": "WTw8tuPAtHye",
        "colab_type": "code",
        "outputId": "17099da1-b35f-4136-95fb-164d2efdef4b",
        "colab": {
          "base_uri": "https://localhost:8080/",
          "height": 283
        }
      },
      "source": [
        "from sklearn.neighbors import KNeighborsClassifier\n",
        "knn =  KNeighborsClassifier(10)\n",
        "knn.fit(x_train,y_train)\n",
        "value = 20000\n",
        "width = 20000\n",
        "plot_decision_regions(sourcevars.values.astype(np.integer), targetvar.values.ravel().astype(np.integer), clf=knn, legend=2, \n",
        "                      filler_feature_values={2: value, 3: value, 4: value, 5: value, 6: value},\n",
        "                      filler_feature_ranges={2: width, 3: width, 4: width, 5: width, 6: width},\n",
        "                      X_highlight = x_test.values.astype(np.integer))\n",
        "\n",
        "\n",
        "plt.title('KNN with Diabetes Data')\n",
        "plt.xlim([-3,15])\n",
        "plt.ylim([0,250])\n",
        "plt.show()"
      ],
      "execution_count": 51,
      "outputs": [
        {
          "output_type": "display_data",
          "data": {
            "image/png": "[encoded data removed]",
            "text/plain": [
              "<Figure size 432x288 with 1 Axes>"
            ]
          },
          "metadata": {
            "tags": [],
            "needs_background": "light"
          }
        }
      ]
    }
  ]
}